{
 "cells": [
  {
   "cell_type": "markdown",
   "metadata": {},
   "source": [
    "Riya & Austin<br/>Section 3"
   ]
  },
  {
   "cell_type": "markdown",
   "metadata": {},
   "source": [
    "# Question"
   ]
  },
  {
   "cell_type": "markdown",
   "metadata": {},
   "source": [
    "### What would happen if Olin students kept coming to class during an meningococcal meningitis outbreak?"
   ]
  },
  {
   "cell_type": "markdown",
   "metadata": {},
   "source": [
    "# Model"
   ]
  },
  {
   "cell_type": "markdown",
   "metadata": {},
   "source": [
    "### Setting up the environment"
   ]
  },
  {
   "cell_type": "code",
   "execution_count": 2,
   "metadata": {},
   "outputs": [],
   "source": [
    "# Configure Jupyter so figures appear in the notebook\n",
    "%matplotlib inline\n",
    "\n",
    "# Configure Jupyter to display the assigned value after an assignment\n",
    "%config InteractiveShell.ast_node_interactivity='last_expr_or_assign'\n",
    "import matplotlib.pyplot as plt\n",
    "\n",
    "\n",
    "# import functions from the modsim.py module\n",
    "from modsim import *"
   ]
  },
  {
   "cell_type": "code",
   "execution_count": 3,
   "metadata": {},
   "outputs": [
    {
     "data": {
      "text/html": [
       "<div>\n",
       "<style scoped>\n",
       "    .dataframe tbody tr th:only-of-type {\n",
       "        vertical-align: middle;\n",
       "    }\n",
       "\n",
       "    .dataframe tbody tr th {\n",
       "        vertical-align: top;\n",
       "    }\n",
       "\n",
       "    .dataframe thead th {\n",
       "        text-align: right;\n",
       "    }\n",
       "</style>\n",
       "<table border=\"1\" class=\"dataframe\">\n",
       "  <thead>\n",
       "    <tr style=\"text-align: right;\">\n",
       "      <th></th>\n",
       "      <th>values</th>\n",
       "    </tr>\n",
       "  </thead>\n",
       "  <tbody>\n",
       "    <tr>\n",
       "      <th>S</th>\n",
       "      <td>360</td>\n",
       "    </tr>\n",
       "    <tr>\n",
       "      <th>Q</th>\n",
       "      <td>0</td>\n",
       "    </tr>\n",
       "    <tr>\n",
       "      <th>C</th>\n",
       "      <td>2</td>\n",
       "    </tr>\n",
       "    <tr>\n",
       "      <th>R</th>\n",
       "      <td>0</td>\n",
       "    </tr>\n",
       "    <tr>\n",
       "      <th>D</th>\n",
       "      <td>0</td>\n",
       "    </tr>\n",
       "  </tbody>\n",
       "</table>\n",
       "</div>"
      ],
      "text/plain": [
       "S    360\n",
       "Q      0\n",
       "C      2\n",
       "R      0\n",
       "D      0\n",
       "dtype: int64"
      ]
     },
     "execution_count": 3,
     "metadata": {},
     "output_type": "execute_result"
    }
   ],
   "source": [
    "'''\n",
    "S: Susceptible\n",
    "Q: Quarantine\n",
    "C: Coming to class\n",
    "R: Recovered\n",
    "D: Dead XP\n",
    "'''\n",
    "\n",
    "init = State(S=360, Q=0, C=2, R=0, D=0)"
   ]
  },
  {
   "cell_type": "code",
   "execution_count": 4,
   "metadata": {},
   "outputs": [
    {
     "data": {
      "text/html": [
       "<div>\n",
       "<style scoped>\n",
       "    .dataframe tbody tr th:only-of-type {\n",
       "        vertical-align: middle;\n",
       "    }\n",
       "\n",
       "    .dataframe tbody tr th {\n",
       "        vertical-align: top;\n",
       "    }\n",
       "\n",
       "    .dataframe thead th {\n",
       "        text-align: right;\n",
       "    }\n",
       "</style>\n",
       "<table border=\"1\" class=\"dataframe\">\n",
       "  <thead>\n",
       "    <tr style=\"text-align: right;\">\n",
       "      <th></th>\n",
       "      <th>values</th>\n",
       "    </tr>\n",
       "  </thead>\n",
       "  <tbody>\n",
       "    <tr>\n",
       "      <th>i</th>\n",
       "      <td>2.000</td>\n",
       "    </tr>\n",
       "    <tr>\n",
       "      <th>p</th>\n",
       "      <td>0.400</td>\n",
       "    </tr>\n",
       "    <tr>\n",
       "      <th>g</th>\n",
       "      <td>0.300</td>\n",
       "    </tr>\n",
       "    <tr>\n",
       "      <th>alpha</th>\n",
       "      <td>0.400</td>\n",
       "    </tr>\n",
       "    <tr>\n",
       "      <th>beta</th>\n",
       "      <td>0.100</td>\n",
       "    </tr>\n",
       "    <tr>\n",
       "      <th>gamma</th>\n",
       "      <td>0.001</td>\n",
       "    </tr>\n",
       "    <tr>\n",
       "      <th>sigma</th>\n",
       "      <td>0.500</td>\n",
       "    </tr>\n",
       "  </tbody>\n",
       "</table>\n",
       "</div>"
      ],
      "text/plain": [
       "i        2.000\n",
       "p        0.400\n",
       "g        0.300\n",
       "alpha    0.400\n",
       "beta     0.100\n",
       "gamma    0.001\n",
       "sigma    0.500\n",
       "dtype: float64"
      ]
     },
     "execution_count": 4,
     "metadata": {},
     "output_type": "execute_result"
    }
   ],
   "source": [
    "'''\n",
    "i: contagion rate\n",
    "p: proportion quarantined\n",
    "g: \"go home\" rate (a.k.a. C->Q rate)\n",
    "alpha: quarantined recovery rate\n",
    "beta: quarantined death rate\n",
    "gamma: coming to class recovery rate\n",
    "sigma: coming to class death rate\n",
    "'''\n",
    "\n",
    "system = System(\n",
    "    i=2,\n",
    "    p=0.4,\n",
    "    g=0.3,\n",
    "    alpha=0.4,\n",
    "    beta=0.1,\n",
    "    gamma=0.001,\n",
    "    sigma=0.5\n",
    ")"
   ]
  },
  {
   "cell_type": "code",
   "execution_count": 5,
   "metadata": {},
   "outputs": [],
   "source": [
    "def update_func(state, system, dt=1):\n",
    "    unpack(state)\n",
    "    unpack(system)\n",
    "    \n",
    "    if S <= 0:\n",
    "        delta = 0\n",
    "    else:\n",
    "        delta = i/S\n",
    "\n",
    "    infections = min([S * C * delta, S])\n",
    "    recoveries = min([Q*alpha + C*gamma, 80])\n",
    "    deaths     = min([Q*beta + C*sigma, 80])\n",
    "    \n",
    "    \n",
    "    dSdt = -infections * dt\n",
    "    dQdt = (infections * p + C*g - Q*alpha - Q*beta) * dt\n",
    "    dCdt = (infections * (1-p) - C*gamma - C*sigma - C*g) * dt\n",
    "    dRdt = (recoveries) * dt\n",
    "    dDdt = (deaths) * dt\n",
    "    \n",
    "    s,q,c,r,d = S,Q,C,R,D\n",
    "    \n",
    "    return State(\n",
    "        S = s + dSdt,\n",
    "        Q = q + dQdt,\n",
    "        C = c + dCdt,\n",
    "        R = r + dRdt,\n",
    "        D = d + dDdt\n",
    "    )"
   ]
  },
  {
   "cell_type": "code",
   "execution_count": 6,
   "metadata": {},
   "outputs": [],
   "source": [
    "def run_simulation(system, init, t_end, dt):\n",
    "    unpack(system)\n",
    "    \n",
    "    results = TimeFrame(columns=init.index)\n",
    "    results.row[0] = init\n",
    "    \n",
    "    for t in linrange(0, t_end, dt):\n",
    "        results.row[t+dt] = update_func(results.row[t], system, dt)\n",
    "    \n",
    "    return results"
   ]
  },
  {
   "cell_type": "code",
   "execution_count": 7,
   "metadata": {},
   "outputs": [],
   "source": [
    "def plot_results(results):\n",
    "    plot(results['S'], '-', label='Susceptible')\n",
    "    plot(results['C'], '--', label='Coming to class')\n",
    "    plot(results['Q'], ':', label='Quarantined')\n",
    "    plot(results['R'], '.-', label='Recovered')\n",
    "    plot(results['D'], '.', label='Dead')\n",
    "    decorate(xlabel='Time (days)', ylabel='Population')"
   ]
  },
  {
   "cell_type": "code",
   "execution_count": 8,
   "metadata": {},
   "outputs": [
    {
     "name": "stdout",
     "output_type": "stream",
     "text": [
      "          S           Q            C         R        D\n",
      "0       360           0            2         0        0\n",
      "1       356         2.2        2.798     0.002        1\n",
      "2   350.404      4.1778       3.9144  0.884798    2.619\n",
      "3   342.575     6.39474      5.47625   2.55983  4.99398\n",
      "4   331.623     9.22124      7.66127   5.12321  8.37158\n",
      "5     316.3      13.038      10.7181   8.81936  13.1243\n",
      "6   294.864     18.3089      14.9946   14.0453  19.7872\n",
      "7   264.875     25.6486      20.9775   21.3839  29.1154\n",
      "8    222.92     35.8996      29.3475   31.6643   42.169\n",
      "9   164.225     50.2321      41.0572   46.0534  60.4328\n",
      "10  82.1101      70.279       57.439   66.1873  85.9846\n",
      "11        0     85.2152      60.6964   94.3564  121.732\n",
      "12        0     60.8165      12.0786   128.503  160.602\n",
      "13        0     34.0318      2.40364   152.842  172.723\n",
      "14        0      17.737     0.478324   166.457  177.328\n",
      "15        0     9.01201    0.0951865   173.552  179.341\n",
      "16        0     4.53456    0.0189421   177.157  180.289\n",
      "17        0     2.27296   0.00376948   178.971  180.752\n",
      "18        0     1.13761  0.000750127    179.88  180.981\n",
      "19        0    0.569031  0.000149275   180.335  181.096\n",
      "20        0     0.28456  2.97058e-05   180.563  181.153\n",
      "21        0    0.142289  5.91145e-06   180.677  181.181\n",
      "22        0   0.0711463  1.17638e-06   180.734  181.195\n",
      "23        0   0.0355735  2.34099e-07   180.762  181.202\n",
      "24        0   0.0177868  4.65858e-08   180.776  181.206\n",
      "25        0  0.00889342  9.27056e-09   180.783  181.208\n",
      "26        0  0.00444671  1.84484e-09   180.787  181.209\n",
      "27        0  0.00222336  3.67124e-10   180.789  181.209\n",
      "28        0  0.00111168  7.30576e-11    180.79  181.209\n",
      "29        0  0.00055584  1.45385e-11    180.79  181.209\n",
      "30        0  0.00027792  2.89315e-12    180.79  181.209\n"
     ]
    },
    {
     "data": {
      "image/png": "[encoded data removed]",
      "text/plain": [
       "<Figure size 432x288 with 1 Axes>"
      ]
     },
     "metadata": {
      "needs_background": "light"
     },
     "output_type": "display_data"
    }
   ],
   "source": [
    "results = run_simulation(system, init, 30, 1)\n",
    "plot_results(results)\n",
    "print(results)"
   ]
  },
  {
   "cell_type": "markdown",
   "metadata": {},
   "source": [
    "# Results"
   ]
  },
  {
   "cell_type": "code",
   "execution_count": null,
   "metadata": {},
   "outputs": [],
   "source": [
    "\"\"\"\n",
    "peeps amount don't matter\n",
    "\"\"\""
   ]
  },
  {
   "cell_type": "markdown",
   "metadata": {},
   "source": [
    "# Interpretation"
   ]
  },
  {
   "cell_type": "code",
   "execution_count": null,
   "metadata": {},
   "outputs": [],
   "source": []
  }
 ],
 "metadata": {
  "kernelspec": {
   "display_name": "Python 3",
   "language": "python",
   "name": "python3"
  },
  "language_info": {
   "codemirror_mode": {
    "name": "ipython",
    "version": 3
   },
   "file_extension": ".py",
   "mimetype": "text/x-python",
   "name": "python",
   "nbconvert_exporter": "python",
   "pygments_lexer": "ipython3",
   "version": "3.6.6"
  }
 },
 "nbformat": 4,
 "nbformat_minor": 2
}
