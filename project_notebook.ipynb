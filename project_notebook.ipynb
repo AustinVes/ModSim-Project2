{
 "cells": [
  {
   "cell_type": "markdown",
   "metadata": {},
   "source": [
    "Riya & Austin<br/>Section 3"
   ]
  },
  {
   "cell_type": "markdown",
   "metadata": {},
   "source": [
    "# Question"
   ]
  },
  {
   "cell_type": "code",
   "execution_count": null,
   "metadata": {},
   "outputs": [],
   "source": []
  },
  {
   "cell_type": "markdown",
   "metadata": {},
   "source": [
    "# Model"
   ]
  },
  {
   "cell_type": "markdown",
   "metadata": {},
   "source": [
    "### Setting up the environment"
   ]
  },
  {
   "cell_type": "code",
   "execution_count": 1,
   "metadata": {},
   "outputs": [],
   "source": [
    "# Configure Jupyter so figures appear in the notebook\n",
    "%matplotlib inline\n",
    "\n",
    "# Configure Jupyter to display the assigned value after an assignment\n",
    "%config InteractiveShell.ast_node_interactivity='last_expr_or_assign'\n",
    "import matplotlib.pyplot as plt\n",
    "\n",
    "\n",
    "# import functions from the modsim.py module\n",
    "from modsim import *"
   ]
  },
  {
   "cell_type": "code",
   "execution_count": 2,
   "metadata": {},
   "outputs": [
    {
     "data": {
      "text/html": [
       "<div>\n",
       "<style scoped>\n",
       "    .dataframe tbody tr th:only-of-type {\n",
       "        vertical-align: middle;\n",
       "    }\n",
       "\n",
       "    .dataframe tbody tr th {\n",
       "        vertical-align: top;\n",
       "    }\n",
       "\n",
       "    .dataframe thead th {\n",
       "        text-align: right;\n",
       "    }\n",
       "</style>\n",
       "<table border=\"1\" class=\"dataframe\">\n",
       "  <thead>\n",
       "    <tr style=\"text-align: right;\">\n",
       "      <th></th>\n",
       "      <th>values</th>\n",
       "    </tr>\n",
       "  </thead>\n",
       "  <tbody>\n",
       "    <tr>\n",
       "      <th>S</th>\n",
       "      <td>360</td>\n",
       "    </tr>\n",
       "    <tr>\n",
       "      <th>Q</th>\n",
       "      <td>0</td>\n",
       "    </tr>\n",
       "    <tr>\n",
       "      <th>C</th>\n",
       "      <td>1</td>\n",
       "    </tr>\n",
       "    <tr>\n",
       "      <th>R</th>\n",
       "      <td>0</td>\n",
       "    </tr>\n",
       "    <tr>\n",
       "      <th>D</th>\n",
       "      <td>0</td>\n",
       "    </tr>\n",
       "  </tbody>\n",
       "</table>\n",
       "</div>"
      ],
      "text/plain": [
       "S    360\n",
       "Q      0\n",
       "C      1\n",
       "R      0\n",
       "D      0\n",
       "dtype: int64"
      ]
     },
     "execution_count": 2,
     "metadata": {},
     "output_type": "execute_result"
    }
   ],
   "source": [
    "'''\n",
    "S: Susceptible\n",
    "Q: Quarantine\n",
    "C: Coming to class\n",
    "R: Recovered\n",
    "D: Dead XP\n",
    "'''\n",
    "\n",
    "init = State(S=360, Q=0, C=1, R=0, D=0)"
   ]
  },
  {
   "cell_type": "code",
   "execution_count": 3,
   "metadata": {},
   "outputs": [
    {
     "data": {
      "text/html": [
       "<div>\n",
       "<style scoped>\n",
       "    .dataframe tbody tr th:only-of-type {\n",
       "        vertical-align: middle;\n",
       "    }\n",
       "\n",
       "    .dataframe tbody tr th {\n",
       "        vertical-align: top;\n",
       "    }\n",
       "\n",
       "    .dataframe thead th {\n",
       "        text-align: right;\n",
       "    }\n",
       "</style>\n",
       "<table border=\"1\" class=\"dataframe\">\n",
       "  <thead>\n",
       "    <tr style=\"text-align: right;\">\n",
       "      <th></th>\n",
       "      <th>values</th>\n",
       "    </tr>\n",
       "  </thead>\n",
       "  <tbody>\n",
       "    <tr>\n",
       "      <th>i</th>\n",
       "      <td>1.000</td>\n",
       "    </tr>\n",
       "    <tr>\n",
       "      <th>p</th>\n",
       "      <td>0.400</td>\n",
       "    </tr>\n",
       "    <tr>\n",
       "      <th>g</th>\n",
       "      <td>0.600</td>\n",
       "    </tr>\n",
       "    <tr>\n",
       "      <th>alpha</th>\n",
       "      <td>0.400</td>\n",
       "    </tr>\n",
       "    <tr>\n",
       "      <th>beta</th>\n",
       "      <td>0.100</td>\n",
       "    </tr>\n",
       "    <tr>\n",
       "      <th>gamma</th>\n",
       "      <td>0.001</td>\n",
       "    </tr>\n",
       "    <tr>\n",
       "      <th>sigma</th>\n",
       "      <td>0.300</td>\n",
       "    </tr>\n",
       "  </tbody>\n",
       "</table>\n",
       "</div>"
      ],
      "text/plain": [
       "i        1.000\n",
       "p        0.400\n",
       "g        0.600\n",
       "alpha    0.400\n",
       "beta     0.100\n",
       "gamma    0.001\n",
       "sigma    0.300\n",
       "dtype: float64"
      ]
     },
     "execution_count": 3,
     "metadata": {},
     "output_type": "execute_result"
    }
   ],
   "source": [
    "'''\n",
    "i: contagion rate\n",
    "p: proportion quarantined\n",
    "g: \"go home\" rate (a.k.a. C->Q rate)\n",
    "alpha: quarantined recovery rate\n",
    "beta: quarantined death rate\n",
    "gamma: coming to class recovery rate\n",
    "sigma: coming to class death rate\n",
    "'''\n",
    "\n",
    "system = System(\n",
    "    i=1,\n",
    "    p=0.4,\n",
    "    g=0.6,\n",
    "    alpha=0.4,\n",
    "    beta=0.1,\n",
    "    gamma=0.001,\n",
    "    sigma=0.3\n",
    ")"
   ]
  },
  {
   "cell_type": "code",
   "execution_count": 27,
   "metadata": {},
   "outputs": [],
   "source": [
    "def update_func(state, system, dt=1):\n",
    "    unpack(state)\n",
    "    unpack(system)\n",
    "    \n",
    "    if S <= 0:\n",
    "        delta = 0\n",
    "    else:\n",
    "        delta = i/S\n",
    "\n",
    "    infections = min([S * C * delta, S])\n",
    "    recoveries = min([Q*alpha + C*gamma, 360])\n",
    "    deaths     = min([Q*beta + C*sigma, 360])\n",
    "    \n",
    "    print (\"S C Delta: \", S * C * delta)\n",
    "    print (\"S\", S)\n",
    "    \n",
    "    dSdt = -infections * dt\n",
    "    dQdt = (infections * p + C*g - Q*alpha - Q*beta) * dt\n",
    "    dCdt = (infections * (1-p) - C*gamma - C*sigma) * dt\n",
    "    dRdt = (recoveries) * dt\n",
    "    dDdt = (deaths) * dt\n",
    "    \n",
    "    s,q,c,r,d = S,Q,C,R,D\n",
    "    \n",
    "    return State(\n",
    "        S = s + dSdt,\n",
    "        Q = q + dQdt,\n",
    "        C = c + dCdt,\n",
    "        R = r + dRdt,\n",
    "        D = d + dDdt\n",
    "    )"
   ]
  },
  {
   "cell_type": "code",
   "execution_count": 28,
   "metadata": {},
   "outputs": [],
   "source": [
    "def run_simulation(system, init, t_end, dt):\n",
    "    unpack(system)\n",
    "    \n",
    "    results = TimeFrame(columns=init.index)\n",
    "    results.row[0] = init\n",
    "    \n",
    "    for t in linrange(0, t_end, dt):\n",
    "        results.row[t+dt] = update_func(results.row[t], system, dt)\n",
    "    \n",
    "    return results"
   ]
  },
  {
   "cell_type": "code",
   "execution_count": 29,
   "metadata": {},
   "outputs": [],
   "source": [
    "def plot_results(results):\n",
    "    plot(results['S'], '-', label='Susceptible')\n",
    "    plot(results['C'], '--', label='Coming to class')\n",
    "    plot(results['Q'], ':', label='Quarantined')\n",
    "    plot(results['R'], '.-', label='Recovered')\n",
    "    plot(results['D'], '.', label='Dead')\n",
    "    decorate(xlabel='Time (days)', ylabel='Population')"
   ]
  },
  {
   "cell_type": "code",
   "execution_count": 30,
   "metadata": {},
   "outputs": [
    {
     "name": "stdout",
     "output_type": "stream",
     "text": [
      "S C Delta:  1.0\n",
      "S 360\n",
      "S C Delta:  1.299\n",
      "S 359.0\n",
      "S C Delta:  1.6874010000000002\n",
      "S 357.701\n",
      "S C Delta:  2.191933899\n",
      "S 356.013599\n",
      "S C Delta:  2.847322134801\n",
      "S 353.821665101\n",
      "S C Delta:  3.6986714531064986\n",
      "S 350.974342966199\n",
      "S C Delta:  4.804574217585341\n",
      "S 347.2756715130925\n",
      "S C Delta:  6.241141908643359\n",
      "S 342.47109729550715\n",
      "S C Delta:  8.107243339327724\n",
      "S 336.22995538686376\n",
      "S C Delta:  10.531309097786712\n",
      "S 328.122712047536\n",
      "S C Delta:  13.68017051802494\n",
      "S 317.5914029497493\n",
      "S C Delta:  17.770541502914398\n",
      "S 303.91123243172433\n",
      "S C Delta:  23.083933412285802\n",
      "S 286.14069092880993\n",
      "S C Delta:  29.986029502559255\n",
      "S 263.05675751652416\n",
      "S C Delta:  38.95185232382447\n",
      "S 233.0707280139649\n",
      "S C Delta:  50.59845616864798\n",
      "S 194.11887569014044\n",
      "S C Delta:  65.72739456307373\n",
      "S 143.52041952149247\n",
      "S C Delta:  85.37988553743277\n",
      "S 77.79302495841874\n",
      "S C Delta:  0.0\n",
      "S 0.0\n",
      "S C Delta:  0.0\n",
      "S 0.0\n",
      "S C Delta:  0.0\n",
      "S 0.0\n",
      "S C Delta:  0.0\n",
      "S 0.0\n",
      "S C Delta:  0.0\n",
      "S 0.0\n",
      "S C Delta:  0.0\n",
      "S 0.0\n",
      "S C Delta:  0.0\n",
      "S 0.0\n",
      "S C Delta:  0.0\n",
      "S 0.0\n",
      "S C Delta:  0.0\n",
      "S 0.0\n",
      "S C Delta:  0.0\n",
      "S 0.0\n",
      "S C Delta:  0.0\n",
      "S 0.0\n",
      "S C Delta:  0.0\n",
      "S 0.0\n",
      "          S        Q        C         R        D\n",
      "0       360        0        1         0        0\n",
      "1       359        1    1.299     0.001      0.3\n",
      "2   357.701    1.799   1.6874  0.402299   0.7897\n",
      "3   356.014   2.5869  2.19193   1.12359  1.47582\n",
      "4   353.822  3.48538  2.84732   2.16054  2.39209\n",
      "5   350.974  4.59001  3.69867   3.55754  3.59483\n",
      "6   347.276  5.99368  4.80457   5.39724  5.16343\n",
      "7   342.471  7.80141  6.24114   7.79952  7.20417\n",
      "8    336.23  10.1418  8.10724   10.9263  9.85665\n",
      "9   328.123  13.1782  10.5313   14.9912   13.303\n",
      "10  317.591  17.1204  13.6802    20.273  17.7802\n",
      "11  303.911  22.2404  17.7705   27.1348  23.5963\n",
      "12  286.141  28.8907  23.0839   36.0487  31.1515\n",
      "13  263.057  37.5293   29.986   47.6281  40.9658\n",
      "14  233.071  48.7507  38.9519   62.6698  53.7145\n",
      "15  194.119  63.3272  50.5985    82.209  70.2751\n",
      "16   143.52  82.2621  65.7274   107.591  91.7874\n",
      "17   77.793  106.858  85.3799   140.561  119.732\n",
      "18        0  135.774  106.356    183.39  156.032\n",
      "19        0  131.701  74.3431   237.806  201.516\n",
      "20        0  110.456  51.9658   290.561  236.989\n",
      "21        0  86.4077  36.3241   334.795  263.624\n",
      "22        0  64.9983  25.3906   369.395  283.162\n",
      "23        0  47.7335   17.748   395.419  297.279\n",
      "24        0  34.5155  12.4058    414.53  307.377\n",
      "25        0  24.7013  8.67169   428.349   314.55\n",
      "26        0  17.5537  6.06151   438.238  319.622\n",
      "27        0  12.4137    4.237   445.266  323.196\n",
      "28        0  8.74906  2.96166   450.235  325.708\n",
      "29        0  6.15153   2.0702   453.738  327.472\n",
      "30        0  4.31788  1.44707   456.201  328.708\n"
     ]
    },
    {
     "data": {
      "image/png": "[encoded data removed]",
      "text/plain": [
       "<Figure size 432x288 with 1 Axes>"
      ]
     },
     "metadata": {
      "needs_background": "light"
     },
     "output_type": "display_data"
    }
   ],
   "source": [
    "results = run_simulation(system, init, 30, 1)\n",
    "plot_results(results)\n",
    "print(results)"
   ]
  },
  {
   "cell_type": "markdown",
   "metadata": {},
   "source": [
    "# Results"
   ]
  },
  {
   "cell_type": "code",
   "execution_count": null,
   "metadata": {},
   "outputs": [],
   "source": []
  },
  {
   "cell_type": "markdown",
   "metadata": {},
   "source": [
    "# Interpretation"
   ]
  },
  {
   "cell_type": "code",
   "execution_count": null,
   "metadata": {},
   "outputs": [],
   "source": []
  }
 ],
 "metadata": {
  "kernelspec": {
   "display_name": "Python 3",
   "language": "python",
   "name": "python3"
  },
  "language_info": {
   "codemirror_mode": {
    "name": "ipython",
    "version": 3
   },
   "file_extension": ".py",
   "mimetype": "text/x-python",
   "name": "python",
   "nbconvert_exporter": "python",
   "pygments_lexer": "ipython3",
   "version": "3.6.6"
  }
 },
 "nbformat": 4,
 "nbformat_minor": 2
}
