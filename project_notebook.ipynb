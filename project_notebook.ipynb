{
 "cells": [
  {
   "cell_type": "markdown",
   "metadata": {},
   "source": [
    "Riya & Austin<br/>Section 3"
   ]
  },
  {
   "cell_type": "markdown",
   "metadata": {},
   "source": [
    "# Question"
   ]
  },
  {
   "cell_type": "code",
   "execution_count": null,
   "metadata": {},
   "outputs": [],
   "source": []
  },
  {
   "cell_type": "markdown",
   "metadata": {},
   "source": [
    "# Model"
   ]
  },
  {
   "cell_type": "markdown",
   "metadata": {},
   "source": [
    "### Setting up the environment"
   ]
  },
  {
   "cell_type": "code",
   "execution_count": 73,
   "metadata": {},
   "outputs": [],
   "source": [
    "# Configure Jupyter so figures appear in the notebook\n",
    "%matplotlib inline\n",
    "\n",
    "# Configure Jupyter to display the assigned value after an assignment\n",
    "%config InteractiveShell.ast_node_interactivity='last_expr_or_assign'\n",
    "import matplotlib.pyplot as plt\n",
    "\n",
    "\n",
    "# import functions from the modsim.py module\n",
    "from modsim import *"
   ]
  },
  {
   "cell_type": "code",
   "execution_count": 74,
   "metadata": {},
   "outputs": [
    {
     "data": {
      "text/html": [
       "<div>\n",
       "<style scoped>\n",
       "    .dataframe tbody tr th:only-of-type {\n",
       "        vertical-align: middle;\n",
       "    }\n",
       "\n",
       "    .dataframe tbody tr th {\n",
       "        vertical-align: top;\n",
       "    }\n",
       "\n",
       "    .dataframe thead th {\n",
       "        text-align: right;\n",
       "    }\n",
       "</style>\n",
       "<table border=\"1\" class=\"dataframe\">\n",
       "  <thead>\n",
       "    <tr style=\"text-align: right;\">\n",
       "      <th></th>\n",
       "      <th>values</th>\n",
       "    </tr>\n",
       "  </thead>\n",
       "  <tbody>\n",
       "    <tr>\n",
       "      <th>S</th>\n",
       "      <td>190</td>\n",
       "    </tr>\n",
       "    <tr>\n",
       "      <th>Q</th>\n",
       "      <td>0</td>\n",
       "    </tr>\n",
       "    <tr>\n",
       "      <th>C</th>\n",
       "      <td>1</td>\n",
       "    </tr>\n",
       "    <tr>\n",
       "      <th>R</th>\n",
       "      <td>0</td>\n",
       "    </tr>\n",
       "    <tr>\n",
       "      <th>D</th>\n",
       "      <td>0</td>\n",
       "    </tr>\n",
       "  </tbody>\n",
       "</table>\n",
       "</div>"
      ],
      "text/plain": [
       "S    190\n",
       "Q      0\n",
       "C      1\n",
       "R      0\n",
       "D      0\n",
       "dtype: int64"
      ]
     },
     "execution_count": 74,
     "metadata": {},
     "output_type": "execute_result"
    }
   ],
   "source": [
    "'''\n",
    "S: Susceptible\n",
    "Q: Quarantine\n",
    "C: Coming to class\n",
    "R: Recovered\n",
    "D: Dead XP\n",
    "'''\n",
    "\n",
    "init = State(S=190, Q=0, C=1, R=0, D=0)"
   ]
  },
  {
   "cell_type": "code",
   "execution_count": 75,
   "metadata": {},
   "outputs": [
    {
     "data": {
      "text/html": [
       "<div>\n",
       "<style scoped>\n",
       "    .dataframe tbody tr th:only-of-type {\n",
       "        vertical-align: middle;\n",
       "    }\n",
       "\n",
       "    .dataframe tbody tr th {\n",
       "        vertical-align: top;\n",
       "    }\n",
       "\n",
       "    .dataframe thead th {\n",
       "        text-align: right;\n",
       "    }\n",
       "</style>\n",
       "<table border=\"1\" class=\"dataframe\">\n",
       "  <thead>\n",
       "    <tr style=\"text-align: right;\">\n",
       "      <th></th>\n",
       "      <th>values</th>\n",
       "    </tr>\n",
       "  </thead>\n",
       "  <tbody>\n",
       "    <tr>\n",
       "      <th>i</th>\n",
       "      <td>1.000</td>\n",
       "    </tr>\n",
       "    <tr>\n",
       "      <th>p</th>\n",
       "      <td>0.400</td>\n",
       "    </tr>\n",
       "    <tr>\n",
       "      <th>g</th>\n",
       "      <td>0.600</td>\n",
       "    </tr>\n",
       "    <tr>\n",
       "      <th>alpha</th>\n",
       "      <td>0.400</td>\n",
       "    </tr>\n",
       "    <tr>\n",
       "      <th>beta</th>\n",
       "      <td>0.100</td>\n",
       "    </tr>\n",
       "    <tr>\n",
       "      <th>gamma</th>\n",
       "      <td>0.001</td>\n",
       "    </tr>\n",
       "    <tr>\n",
       "      <th>sigma</th>\n",
       "      <td>0.300</td>\n",
       "    </tr>\n",
       "  </tbody>\n",
       "</table>\n",
       "</div>"
      ],
      "text/plain": [
       "i        1.000\n",
       "p        0.400\n",
       "g        0.600\n",
       "alpha    0.400\n",
       "beta     0.100\n",
       "gamma    0.001\n",
       "sigma    0.300\n",
       "dtype: float64"
      ]
     },
     "execution_count": 75,
     "metadata": {},
     "output_type": "execute_result"
    }
   ],
   "source": [
    "'''\n",
    "i: contagion rate\n",
    "p: proportion quarantined\n",
    "g: \"go home\" rate (a.k.a. C->Q rate)\n",
    "alpha: quarantined recovery rate\n",
    "beta: quarantined death rate\n",
    "gamma: coming to class recovery rate\n",
    "sigma: coming to class death rate\n",
    "'''\n",
    "\n",
    "system = System(\n",
    "    i=1,\n",
    "    p=0.4,\n",
    "    g=0.6,\n",
    "    alpha=0.4,\n",
    "    beta=0.1,\n",
    "    gamma=0.001,\n",
    "    sigma=0.3\n",
    ")"
   ]
  },
  {
   "cell_type": "code",
   "execution_count": 76,
   "metadata": {},
   "outputs": [],
   "source": [
    "def update_func(state, system, dt=1):\n",
    "    unpack(state)\n",
    "    unpack(system)\n",
    "    \n",
    "    if S <= 0:\n",
    "        delta = 0\n",
    "    else:\n",
    "        delta = i/S\n",
    "\n",
    "    infections = min([S * C*delta, S])\n",
    "    recoveries = min([Q*alpha + C*gamma, 190])\n",
    "    deaths     = min([Q*beta + C*sigma, 190])\n",
    "    \n",
    "    dSdt = -infections * dt\n",
    "    dQdt = (infections * p + C*g - Q*alpha - Q*beta) * dt\n",
    "    dCdt = (infections * (1-p) - C*gamma - C*sigma) * dt\n",
    "    dRdt = (recoveries) * dt\n",
    "    dDdt = (deaths) * dt\n",
    "    \n",
    "    s,q,c,r,d = S,Q,C,R,D\n",
    "    \n",
    "    return State(\n",
    "        S = s + dSdt,\n",
    "        Q = q + dQdt,\n",
    "        C = c + dCdt,\n",
    "        R = r + dRdt,\n",
    "        D = d + dDdt\n",
    "    )"
   ]
  },
  {
   "cell_type": "code",
   "execution_count": 77,
   "metadata": {},
   "outputs": [],
   "source": [
    "def run_simulation(system, init, t_end, dt):\n",
    "    unpack(system)\n",
    "    \n",
    "    results = TimeFrame(columns=init.index)\n",
    "    results.row[0] = init\n",
    "    \n",
    "    for t in linrange(0, t_end, dt):\n",
    "        results.row[t+dt] = update_func(results.row[t], system, dt)\n",
    "    \n",
    "    return results"
   ]
  },
  {
   "cell_type": "code",
   "execution_count": 78,
   "metadata": {},
   "outputs": [],
   "source": [
    "def plot_results(results):\n",
    "    plot(results['S'], '-', label='Susceptible')\n",
    "    plot(results['C'], '--', label='Coming to class')\n",
    "    plot(results['Q'], ':', label='Quarantined')\n",
    "    plot(results['R'], '.-', label='Recovered')\n",
    "    plot(results['D'], '.', label='Dead')\n",
    "    decorate(xlabel='Time (days)', ylabel='Population')"
   ]
  },
  {
   "cell_type": "code",
   "execution_count": 79,
   "metadata": {},
   "outputs": [
    {
     "name": "stdout",
     "output_type": "stream",
     "text": [
      "          S        Q        C         R        D\n",
      "0       190        0        1         0        0\n",
      "1       189        1    1.299     0.001      0.3\n",
      "2   187.701    1.799   1.6874  0.402299   0.7897\n",
      "3   186.014   2.5869  2.19193   1.12359  1.47582\n",
      "4   183.822  3.48538  2.84732   2.16054  2.39209\n",
      "5   180.974  4.59001  3.69867   3.55754  3.59483\n",
      "6   177.276  5.99368  4.80457   5.39724  5.16343\n",
      "7   172.471  7.80141  6.24114   7.79952  7.20417\n",
      "8    166.23  10.1418  8.10724   10.9263  9.85665\n",
      "9   158.123  13.1782  10.5313   14.9912   13.303\n",
      "10  147.591  17.1204  13.6802    20.273  17.7802\n",
      "11  133.911  22.2404  17.7705   27.1348  23.5963\n",
      "12  116.141  28.8907  23.0839   36.0487  31.1515\n",
      "13  93.0568  37.5293   29.986   47.6281  40.9658\n",
      "14  63.0707  48.7507  38.9519   62.6698  53.7145\n",
      "15  24.1189  63.3272  50.5985    82.209  70.2751\n",
      "16        0  71.6702  49.8396   107.591  91.7874\n",
      "17        0  65.7389  34.8379   136.308  113.906\n",
      "18        0  53.7722  24.3517   162.639  130.932\n",
      "19        0  41.4971  17.0218   184.172  143.614\n",
      "20        0  30.9617  11.8983   200.788  152.871\n",
      "21        0  22.6198  8.31689   213.184  159.536\n"
     ]
    },
    {
     "data": {
      "image/png": "[encoded data removed]",
      "text/plain": [
       "<Figure size 432x288 with 1 Axes>"
      ]
     },
     "metadata": {},
     "output_type": "display_data"
    }
   ],
   "source": [
    "results = run_simulation(system, init, 21, 1)\n",
    "plot_results(results)\n",
    "print(results)"
   ]
  },
  {
   "cell_type": "markdown",
   "metadata": {},
   "source": [
    "# Results"
   ]
  },
  {
   "cell_type": "code",
   "execution_count": null,
   "metadata": {},
   "outputs": [],
   "source": []
  },
  {
   "cell_type": "markdown",
   "metadata": {},
   "source": [
    "# Interpretation"
   ]
  },
  {
   "cell_type": "code",
   "execution_count": null,
   "metadata": {},
   "outputs": [],
   "source": []
  }
 ],
 "metadata": {
  "kernelspec": {
   "display_name": "Python 3",
   "language": "python",
   "name": "python3"
  },
  "language_info": {
   "codemirror_mode": {
    "name": "ipython",
    "version": 3
   },
   "file_extension": ".py",
   "mimetype": "text/x-python",
   "name": "python",
   "nbconvert_exporter": "python",
   "pygments_lexer": "ipython3",
   "version": "3.6.6"
  }
 },
 "nbformat": 4,
 "nbformat_minor": 2
}
