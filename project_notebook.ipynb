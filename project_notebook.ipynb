{
 "cells": [
  {
   "cell_type": "markdown",
   "metadata": {},
   "source": [
    "Riya & Austin<br/>Section 3"
   ]
  },
  {
   "cell_type": "markdown",
   "metadata": {},
   "source": [
    "# Question"
   ]
  },
  {
   "cell_type": "markdown",
   "metadata": {},
   "source": [
    "### What would happen if Olin students kept coming to class during an meningococcal meningitis outbreak?"
   ]
  },
  {
   "cell_type": "markdown",
   "metadata": {},
   "source": [
    "# Model"
   ]
  },
  {
   "cell_type": "markdown",
   "metadata": {},
   "source": [
    "### Setting up the environment"
   ]
  },
  {
   "cell_type": "code",
   "execution_count": 117,
   "metadata": {},
   "outputs": [],
   "source": [
    "# Configure Jupyter so figures appear in the notebook\n",
    "%matplotlib inline\n",
    "\n",
    "# Configure Jupyter to display the assigned value after an assignment\n",
    "%config InteractiveShell.ast_node_interactivity='last_expr_or_assign'\n",
    "import matplotlib.pyplot as plt\n",
    "\n",
    "\n",
    "# import functions from the modsim.py module\n",
    "from modsim import *"
   ]
  },
  {
   "cell_type": "code",
   "execution_count": 118,
   "metadata": {},
   "outputs": [
    {
     "data": {
      "text/html": [
       "<div>\n",
       "<style scoped>\n",
       "    .dataframe tbody tr th:only-of-type {\n",
       "        vertical-align: middle;\n",
       "    }\n",
       "\n",
       "    .dataframe tbody tr th {\n",
       "        vertical-align: top;\n",
       "    }\n",
       "\n",
       "    .dataframe thead th {\n",
       "        text-align: right;\n",
       "    }\n",
       "</style>\n",
       "<table border=\"1\" class=\"dataframe\">\n",
       "  <thead>\n",
       "    <tr style=\"text-align: right;\">\n",
       "      <th></th>\n",
       "      <th>values</th>\n",
       "    </tr>\n",
       "  </thead>\n",
       "  <tbody>\n",
       "    <tr>\n",
       "      <th>S</th>\n",
       "      <td>360</td>\n",
       "    </tr>\n",
       "    <tr>\n",
       "      <th>Q</th>\n",
       "      <td>0</td>\n",
       "    </tr>\n",
       "    <tr>\n",
       "      <th>C</th>\n",
       "      <td>2</td>\n",
       "    </tr>\n",
       "    <tr>\n",
       "      <th>R</th>\n",
       "      <td>0</td>\n",
       "    </tr>\n",
       "    <tr>\n",
       "      <th>D</th>\n",
       "      <td>0</td>\n",
       "    </tr>\n",
       "  </tbody>\n",
       "</table>\n",
       "</div>"
      ],
      "text/plain": [
       "S    360\n",
       "Q      0\n",
       "C      2\n",
       "R      0\n",
       "D      0\n",
       "dtype: int64"
      ]
     },
     "execution_count": 118,
     "metadata": {},
     "output_type": "execute_result"
    }
   ],
   "source": [
    "'''\n",
    "S: Susceptible\n",
    "Q: Quarantine\n",
    "C: Coming to class\n",
    "R: Recovered\n",
    "D: Dead XP\n",
    "'''\n",
    "\n",
    "init = State(S=360, Q=0, C=2, R=0, D=0)"
   ]
  },
  {
   "cell_type": "code",
   "execution_count": 128,
   "metadata": {},
   "outputs": [
    {
     "data": {
      "text/html": [
       "<div>\n",
       "<style scoped>\n",
       "    .dataframe tbody tr th:only-of-type {\n",
       "        vertical-align: middle;\n",
       "    }\n",
       "\n",
       "    .dataframe tbody tr th {\n",
       "        vertical-align: top;\n",
       "    }\n",
       "\n",
       "    .dataframe thead th {\n",
       "        text-align: right;\n",
       "    }\n",
       "</style>\n",
       "<table border=\"1\" class=\"dataframe\">\n",
       "  <thead>\n",
       "    <tr style=\"text-align: right;\">\n",
       "      <th></th>\n",
       "      <th>values</th>\n",
       "    </tr>\n",
       "  </thead>\n",
       "  <tbody>\n",
       "    <tr>\n",
       "      <th>i</th>\n",
       "      <td>0.520833</td>\n",
       "    </tr>\n",
       "    <tr>\n",
       "      <th>p</th>\n",
       "      <td>0.300000</td>\n",
       "    </tr>\n",
       "    <tr>\n",
       "      <th>g</th>\n",
       "      <td>0.070000</td>\n",
       "    </tr>\n",
       "    <tr>\n",
       "      <th>alpha</th>\n",
       "      <td>0.400000</td>\n",
       "    </tr>\n",
       "    <tr>\n",
       "      <th>beta</th>\n",
       "      <td>0.100000</td>\n",
       "    </tr>\n",
       "    <tr>\n",
       "      <th>gamma</th>\n",
       "      <td>0.001000</td>\n",
       "    </tr>\n",
       "    <tr>\n",
       "      <th>sigma</th>\n",
       "      <td>0.500000</td>\n",
       "    </tr>\n",
       "  </tbody>\n",
       "</table>\n",
       "</div>"
      ],
      "text/plain": [
       "i        0.520833\n",
       "p        0.300000\n",
       "g        0.070000\n",
       "alpha    0.400000\n",
       "beta     0.100000\n",
       "gamma    0.001000\n",
       "sigma    0.500000\n",
       "dtype: float64"
      ]
     },
     "execution_count": 128,
     "metadata": {},
     "output_type": "execute_result"
    }
   ],
   "source": [
    "'''\n",
    "i: contagion rate\n",
    "p: proportion quarantined\n",
    "alpha: quarantined recovery rate\n",
    "beta: quarantined death rate\n",
    "'''\n",
    "\n",
    "system = System(\n",
    "    i=0.1 * 5/24 * 25,\n",
    "    g=0.07,\n",
    "    alpha=0.4,\n",
    "    beta=0.1,\n",
    ")"
   ]
  },
  {
   "cell_type": "code",
   "execution_count": 130,
   "metadata": {},
   "outputs": [],
   "source": [
    "def update_func(state, system, dt=1):\n",
    "    unpack(state)\n",
    "    unpack(system)\n",
    "    \n",
    "    if S <= 0:\n",
    "        delta = 0\n",
    "    else:\n",
    "        delta = i/S\n",
    "\n",
    "    infections = min([S * C * delta, S])\n",
    "    recoveries = min([Q*alpha, 360])\n",
    "    deaths     = min([Q*beta, 360])\n",
    "    \n",
    "    \n",
    "    dSdt = -infections * dt\n",
    "    dCdt = (infections - C*g) * dt\n",
    "    dQdt = (C*g - Q*alpha - Q*beta) * dt\n",
    "    dRdt = (recoveries) * dt\n",
    "    dDdt = (deaths) * dt\n",
    "    \n",
    "    s,q,c,r,d = S,Q,C,R,D\n",
    "    \n",
    "    return State(\n",
    "        S = s + dSdt,\n",
    "        Q = q + dQdt,\n",
    "        C = c + dCdt,\n",
    "        R = r + dRdt,\n",
    "        D = d + dDdt\n",
    "    )"
   ]
  },
  {
   "cell_type": "code",
   "execution_count": 131,
   "metadata": {},
   "outputs": [],
   "source": [
    "def run_simulation(system, init, t_end, dt):\n",
    "    unpack(system)\n",
    "    \n",
    "    results = TimeFrame(columns=init.index)\n",
    "    results.row[0] = init\n",
    "    \n",
    "    for t in linrange(0, t_end, dt):\n",
    "        results.row[t+dt] = update_func(results.row[t], system, dt)\n",
    "    \n",
    "    return results"
   ]
  },
  {
   "cell_type": "code",
   "execution_count": 135,
   "metadata": {},
   "outputs": [],
   "source": [
    "def plot_results(results):\n",
    "    plot(results['S'], '-', label='Susceptible')\n",
    "    plot(results['C'], '--', label='Coming to class')\n",
    "    plot(results['Q'], ':', label='Quarantined')\n",
    "    plot(results['R'], '.-', label='Recovered')\n",
    "    plot(results['D'], '.--', label='Dead')\n",
    "    decorate(xlabel='Time (days)', ylabel='Population')"
   ]
  },
  {
   "cell_type": "code",
   "execution_count": 136,
   "metadata": {},
   "outputs": [
    {
     "name": "stdout",
     "output_type": "stream",
     "text": [
      "          S         Q        C         R          D\n",
      "0       360         0        2         0          0\n",
      "1   358.958      0.14  2.90167         0          0\n",
      "2   357.447  0.273117  4.20983     0.056      0.014\n",
      "3   355.254  0.431247  6.10777  0.165247  0.0413117\n",
      "4   352.073  0.643167  8.86135  0.337745  0.0844363\n",
      "5   347.458  0.941878  12.8563  0.595012   0.148753\n",
      "6   340.762   1.37088  18.6524  0.971764   0.242941\n",
      "7   331.047   1.99111  27.0616   1.52012   0.380029\n",
      "8   316.953   2.88986  39.2618   2.31656    0.57914\n",
      "9   296.504   4.19326  56.9623   3.47251   0.868127\n",
      "10  266.836   6.08399  82.6428   5.14981    1.28745\n",
      "11  223.793   8.82699  119.901   7.58341    1.89585\n",
      "12  161.344   12.8066  173.956   11.1142    2.77855\n",
      "13  70.7421   18.5802  252.382   16.2368    4.05921\n",
      "14        0   26.9568  305.457   23.6689    5.91723\n",
      "15        0   34.8604  284.075   34.4517    8.61291\n",
      "16        0   37.3155   264.19   48.3958     12.099\n",
      "17        0    37.151  245.696    63.322    15.8305\n",
      "18        0   35.7743  228.498   78.1824    19.5456\n",
      "19        0    33.882  212.503   92.4921     23.123\n",
      "20        0   31.8162  197.628   106.045    26.5112\n",
      "21        0    29.742  183.794   118.771    29.6928\n",
      "22        0   27.7366  170.928   130.668     32.667\n",
      "23        0   25.8333  158.963   141.763    35.4407\n",
      "24        0   24.0441  147.836   152.096     38.024\n",
      "25        0   22.3705  137.487   161.714    40.4284\n",
      "26        0   20.8094  127.863   170.662    42.6655\n",
      "27        0   19.3551  118.913   178.986    44.7464\n",
      "28        0   18.0014  110.589   186.728    46.6819\n",
      "29        0   16.7419  102.848   193.928    48.4821\n",
      "30        0   15.5703  95.6483   200.625    50.1563\n",
      "31        0   14.4805  88.9529   206.853    51.7133\n",
      "32        0    13.467  82.7262   212.645    53.1614\n",
      "33        0   12.5243  76.9354   218.032    54.5081\n",
      "34        0   11.6476  71.5499   223.042    55.7605\n",
      "35        0   10.8323  66.5414   227.701    56.9253\n",
      "36        0   10.0741  61.8835   232.034    58.0085\n",
      "37        0   9.36887  57.5517   236.064    59.0159\n",
      "38        0   8.71305  53.5231   239.811    59.9528\n",
      "39        0   8.10314  49.7764   243.296    60.8241\n",
      "40        0   7.53592  46.2921   246.538    61.6344\n"
     ]
    },
    {
     "data": {
      "image/png": "[encoded data removed]",
      "text/plain": [
       "<Figure size 432x288 with 1 Axes>"
      ]
     },
     "metadata": {
      "needs_background": "light"
     },
     "output_type": "display_data"
    }
   ],
   "source": [
    "results = run_simulation(system, init, 40, 1)\n",
    "plot_results(results)\n",
    "print(results)"
   ]
  },
  {
   "cell_type": "markdown",
   "metadata": {},
   "source": [
    "# Results"
   ]
  },
  {
   "cell_type": "code",
   "execution_count": null,
   "metadata": {},
   "outputs": [],
   "source": [
    "\"\"\"\n",
    "peeps amount don't matter\n",
    "\"\"\""
   ]
  },
  {
   "cell_type": "markdown",
   "metadata": {},
   "source": [
    "# Interpretation"
   ]
  },
  {
   "cell_type": "code",
   "execution_count": null,
   "metadata": {},
   "outputs": [],
   "source": []
  }
 ],
 "metadata": {
  "kernelspec": {
   "display_name": "Python 3",
   "language": "python",
   "name": "python3"
  },
  "language_info": {
   "codemirror_mode": {
    "name": "ipython",
    "version": 3
   },
   "file_extension": ".py",
   "mimetype": "text/x-python",
   "name": "python",
   "nbconvert_exporter": "python",
   "pygments_lexer": "ipython3",
   "version": "3.6.6"
  }
 },
 "nbformat": 4,
 "nbformat_minor": 2
}
